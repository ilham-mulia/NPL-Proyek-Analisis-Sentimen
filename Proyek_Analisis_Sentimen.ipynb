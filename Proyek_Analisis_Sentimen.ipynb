{
 "cells": [
  {
   "cell_type": "markdown",
   "id": "8fed5b4c",
   "metadata": {},
   "source": [
    "# 1. Proyek Analisis Sentimen - Playstore\n",
    "Notebook ini mencakup seluruh tahapan proyek analisis sentimen terhadap data Kometar pada game GenshinImpact. Termasuk:\n",
    "- Pemuatan dan eksplorasi data\n",
    "- Pembersihan dan pra-pemrosesan teks\n",
    "- Pelabelan sentimen\n",
    "- Ekstraksi fitur\n",
    "- Pelatihan model ML\n",
    "- Evaluasi performa\n",
    "- Inference (pengujian input baru)\n",
    "\n",
    "untuk proses scraping saya menggunakan script scrape.py dan hasilnya di simpan pada file data_playstore.csv"
   ]
  },
  {
   "cell_type": "code",
   "execution_count": 41,
   "id": "f88a716c",
   "metadata": {},
   "outputs": [
    {
     "name": "stderr",
     "output_type": "stream",
     "text": [
      "[nltk_data] Downloading package stopwords to\n",
      "[nltk_data]     C:\\Users\\IMM\\AppData\\Roaming\\nltk_data...\n",
      "[nltk_data]   Package stopwords is already up-to-date!\n"
     ]
    }
   ],
   "source": [
    "# Import libraries\n",
    "import pandas as pd\n",
    "import numpy as np\n",
    "import seaborn as sns\n",
    "import matplotlib.pyplot as plt\n",
    "import re\n",
    "import string\n",
    "import nltk\n",
    "from sklearn.model_selection import train_test_split\n",
    "from sklearn.feature_extraction.text import TfidfVectorizer\n",
    "from sklearn.svm import SVC\n",
    "from sklearn.ensemble import RandomForestClassifier\n",
    "from sklearn.metrics import classification_report, accuracy_score, confusion_matrix\n",
    "nltk.download('stopwords')\n",
    "from nltk.corpus import stopwords\n",
    "stop_words = set(stopwords.words('indonesian'))"
   ]
  },
  {
   "cell_type": "markdown",
   "id": "f83afb91-46f5-41ca-8700-7cf008f59279",
   "metadata": {},
   "source": [
    "# 2. Preprocessing dan Pelabelan Data\n",
    "a. Baca dataset:"
   ]
  },
  {
   "cell_type": "code",
   "execution_count": 2,
   "id": "8850130a",
   "metadata": {},
   "outputs": [
    {
     "data": {
      "text/html": [
       "<div>\n",
       "<style scoped>\n",
       "    .dataframe tbody tr th:only-of-type {\n",
       "        vertical-align: middle;\n",
       "    }\n",
       "\n",
       "    .dataframe tbody tr th {\n",
       "        vertical-align: top;\n",
       "    }\n",
       "\n",
       "    .dataframe thead th {\n",
       "        text-align: right;\n",
       "    }\n",
       "</style>\n",
       "<table border=\"1\" class=\"dataframe\">\n",
       "  <thead>\n",
       "    <tr style=\"text-align: right;\">\n",
       "      <th></th>\n",
       "      <th>userName</th>\n",
       "      <th>at</th>\n",
       "      <th>content</th>\n",
       "    </tr>\n",
       "  </thead>\n",
       "  <tbody>\n",
       "    <tr>\n",
       "      <th>0</th>\n",
       "      <td>Pengguna Google</td>\n",
       "      <td>2025-05-10 14:36:04</td>\n",
       "      <td>lumayan waktu</td>\n",
       "    </tr>\n",
       "    <tr>\n",
       "      <th>1</th>\n",
       "      <td>Pengguna Google</td>\n",
       "      <td>2025-05-08 20:47:40</td>\n",
       "      <td>makasih ghensin dulu 2020 gua masih pake hp ke...</td>\n",
       "    </tr>\n",
       "    <tr>\n",
       "      <th>2</th>\n",
       "      <td>Pengguna Google</td>\n",
       "      <td>2025-05-07 19:07:39</td>\n",
       "      <td>yang aku mau la chanson malah dapat qiqi kalo ...</td>\n",
       "    </tr>\n",
       "    <tr>\n",
       "      <th>3</th>\n",
       "      <td>Pengguna Google</td>\n",
       "      <td>2025-05-07 05:53:39</td>\n",
       "      <td>game best kalo bisa main 😁</td>\n",
       "    </tr>\n",
       "    <tr>\n",
       "      <th>4</th>\n",
       "      <td>Pengguna Google</td>\n",
       "      <td>2025-05-06 20:11:07</td>\n",
       "      <td>Genshin Impact Grafik HD Fps 60 Karakter baru ...</td>\n",
       "    </tr>\n",
       "    <tr>\n",
       "      <th>5</th>\n",
       "      <td>Pengguna Google</td>\n",
       "      <td>2025-05-05 16:23:28</td>\n",
       "      <td>Kenapa akun saya tiba tiba tidak bisa log in, ...</td>\n",
       "    </tr>\n",
       "    <tr>\n",
       "      <th>6</th>\n",
       "      <td>Pengguna Google</td>\n",
       "      <td>2025-04-16 05:01:17</td>\n",
       "      <td>udh game kikir,,game yapping,,muka NPC nya tem...</td>\n",
       "    </tr>\n",
       "    <tr>\n",
       "      <th>7</th>\n",
       "      <td>Pengguna Google</td>\n",
       "      <td>2025-04-15 17:28:21</td>\n",
       "      <td>ayolah jangan jean, aku mau xilonen, udh cape ...</td>\n",
       "    </tr>\n",
       "    <tr>\n",
       "      <th>8</th>\n",
       "      <td>Pengguna Google</td>\n",
       "      <td>2025-04-15 17:12:35</td>\n",
       "      <td>Jangan Main game dev mihoyo buat kesehatan men...</td>\n",
       "    </tr>\n",
       "    <tr>\n",
       "      <th>9</th>\n",
       "      <td>Pengguna Google</td>\n",
       "      <td>2025-04-15 15:55:50</td>\n",
       "      <td>Game Kikir, gacha Ampas</td>\n",
       "    </tr>\n",
       "  </tbody>\n",
       "</table>\n",
       "</div>"
      ],
      "text/plain": [
       "          userName                   at  \\\n",
       "0  Pengguna Google  2025-05-10 14:36:04   \n",
       "1  Pengguna Google  2025-05-08 20:47:40   \n",
       "2  Pengguna Google  2025-05-07 19:07:39   \n",
       "3  Pengguna Google  2025-05-07 05:53:39   \n",
       "4  Pengguna Google  2025-05-06 20:11:07   \n",
       "5  Pengguna Google  2025-05-05 16:23:28   \n",
       "6  Pengguna Google  2025-04-16 05:01:17   \n",
       "7  Pengguna Google  2025-04-15 17:28:21   \n",
       "8  Pengguna Google  2025-04-15 17:12:35   \n",
       "9  Pengguna Google  2025-04-15 15:55:50   \n",
       "\n",
       "                                             content  \n",
       "0                                      lumayan waktu  \n",
       "1  makasih ghensin dulu 2020 gua masih pake hp ke...  \n",
       "2  yang aku mau la chanson malah dapat qiqi kalo ...  \n",
       "3                         game best kalo bisa main 😁  \n",
       "4  Genshin Impact Grafik HD Fps 60 Karakter baru ...  \n",
       "5  Kenapa akun saya tiba tiba tidak bisa log in, ...  \n",
       "6  udh game kikir,,game yapping,,muka NPC nya tem...  \n",
       "7  ayolah jangan jean, aku mau xilonen, udh cape ...  \n",
       "8  Jangan Main game dev mihoyo buat kesehatan men...  \n",
       "9                            Game Kikir, gacha Ampas  "
      ]
     },
     "execution_count": 2,
     "metadata": {},
     "output_type": "execute_result"
    }
   ],
   "source": [
    "import pandas as pd\n",
    "\n",
    "# Memuat dataset dari file CSV\n",
    "df = pd.read_csv(\"data_playstore.csv\")\n",
    "\n",
    "# Menampilkan 10 baris pertama untuk mengecek data\n",
    "df.head(10)\n"
   ]
  },
  {
   "cell_type": "markdown",
   "id": "005e0f4a-122b-4f20-8b11-3a40878f1004",
   "metadata": {},
   "source": [
    "\n",
    "b. Cek isi dan kolom:"
   ]
  },
  {
   "cell_type": "code",
   "execution_count": 3,
   "id": "f383875d-f713-47e5-8dc9-61bcda0903ab",
   "metadata": {},
   "outputs": [
    {
     "name": "stdout",
     "output_type": "stream",
     "text": [
      "<class 'pandas.core.frame.DataFrame'>\n",
      "RangeIndex: 3000 entries, 0 to 2999\n",
      "Data columns (total 3 columns):\n",
      " #   Column    Non-Null Count  Dtype \n",
      "---  ------    --------------  ----- \n",
      " 0   userName  3000 non-null   object\n",
      " 1   at        3000 non-null   object\n",
      " 2   content   3000 non-null   object\n",
      "dtypes: object(3)\n",
      "memory usage: 70.4+ KB\n"
     ]
    },
    {
     "data": {
      "text/plain": [
       "0                                        lumayan waktu\n",
       "1    makasih ghensin dulu 2020 gua masih pake hp ke...\n",
       "2    yang aku mau la chanson malah dapat qiqi kalo ...\n",
       "3                           game best kalo bisa main 😁\n",
       "4    Genshin Impact Grafik HD Fps 60 Karakter baru ...\n",
       "Name: content, dtype: object"
      ]
     },
     "execution_count": 3,
     "metadata": {},
     "output_type": "execute_result"
    }
   ],
   "source": [
    "df.head()\n",
    "# Cek info dan kolom data\n",
    "df.info()\n",
    "\n",
    "# Cek distribusi data pada kolom 'content'\n",
    "df['content'].head()\n",
    "\n"
   ]
  },
  {
   "cell_type": "markdown",
   "id": "96708629-b3ea-43c8-b107-4a68680f58a3",
   "metadata": {},
   "source": [
    "\n",
    "c. Buat label sentimen:"
   ]
  },
  {
   "cell_type": "code",
   "execution_count": 8,
   "id": "8def4ac2-7fed-42b8-a17e-963c05f1e982",
   "metadata": {},
   "outputs": [
    {
     "data": {
      "text/html": [
       "<div>\n",
       "<style scoped>\n",
       "    .dataframe tbody tr th:only-of-type {\n",
       "        vertical-align: middle;\n",
       "    }\n",
       "\n",
       "    .dataframe tbody tr th {\n",
       "        vertical-align: top;\n",
       "    }\n",
       "\n",
       "    .dataframe thead th {\n",
       "        text-align: right;\n",
       "    }\n",
       "</style>\n",
       "<table border=\"1\" class=\"dataframe\">\n",
       "  <thead>\n",
       "    <tr style=\"text-align: right;\">\n",
       "      <th></th>\n",
       "      <th>userName</th>\n",
       "      <th>at</th>\n",
       "      <th>content</th>\n",
       "      <th>sentiment</th>\n",
       "    </tr>\n",
       "  </thead>\n",
       "  <tbody>\n",
       "    <tr>\n",
       "      <th>0</th>\n",
       "      <td>Pengguna Google</td>\n",
       "      <td>2025-05-10 14:36:04</td>\n",
       "      <td>lumayan waktu</td>\n",
       "      <td>netral</td>\n",
       "    </tr>\n",
       "    <tr>\n",
       "      <th>1</th>\n",
       "      <td>Pengguna Google</td>\n",
       "      <td>2025-05-08 20:47:40</td>\n",
       "      <td>makasih ghensin dulu 2020 gua masih pake hp ke...</td>\n",
       "      <td>netral</td>\n",
       "    </tr>\n",
       "    <tr>\n",
       "      <th>2</th>\n",
       "      <td>Pengguna Google</td>\n",
       "      <td>2025-05-07 19:07:39</td>\n",
       "      <td>yang aku mau la chanson malah dapat qiqi kalo ...</td>\n",
       "      <td>netral</td>\n",
       "    </tr>\n",
       "    <tr>\n",
       "      <th>3</th>\n",
       "      <td>Pengguna Google</td>\n",
       "      <td>2025-05-07 05:53:39</td>\n",
       "      <td>game best kalo bisa main 😁</td>\n",
       "      <td>positif</td>\n",
       "    </tr>\n",
       "    <tr>\n",
       "      <th>4</th>\n",
       "      <td>Pengguna Google</td>\n",
       "      <td>2025-05-06 20:11:07</td>\n",
       "      <td>Genshin Impact Grafik HD Fps 60 Karakter baru ...</td>\n",
       "      <td>netral</td>\n",
       "    </tr>\n",
       "  </tbody>\n",
       "</table>\n",
       "</div>"
      ],
      "text/plain": [
       "          userName                   at  \\\n",
       "0  Pengguna Google  2025-05-10 14:36:04   \n",
       "1  Pengguna Google  2025-05-08 20:47:40   \n",
       "2  Pengguna Google  2025-05-07 19:07:39   \n",
       "3  Pengguna Google  2025-05-07 05:53:39   \n",
       "4  Pengguna Google  2025-05-06 20:11:07   \n",
       "\n",
       "                                             content sentiment  \n",
       "0                                      lumayan waktu    netral  \n",
       "1  makasih ghensin dulu 2020 gua masih pake hp ke...    netral  \n",
       "2  yang aku mau la chanson malah dapat qiqi kalo ...    netral  \n",
       "3                         game best kalo bisa main 😁   positif  \n",
       "4  Genshin Impact Grafik HD Fps 60 Karakter baru ...    netral  "
      ]
     },
     "execution_count": 8,
     "metadata": {},
     "output_type": "execute_result"
    }
   ],
   "source": [
    "import pandas as pd\n",
    "from textblob import TextBlob\n",
    "\n",
    "# Memuat data\n",
    "df = pd.read_csv(\"data_playstore.csv\")\n",
    "\n",
    "# Cek isi file\n",
    "df.head()\n",
    "\n",
    "# Fungsi untuk menentukan sentimen dari teks\n",
    "def label_sentiment(text):\n",
    "    # Analisis sentimen menggunakan TextBlob\n",
    "    blob = TextBlob(text)\n",
    "    polarity = blob.sentiment.polarity  # Nilai polaritas antara -1 (negatif) dan 1 (positif)\n",
    "\n",
    "    if polarity > 0.1:\n",
    "        return 'positif'\n",
    "    elif polarity < -0.1:\n",
    "        return 'negatif'\n",
    "    else:\n",
    "        return 'netral'\n",
    "\n",
    "# Terapkan label_sentiment ke kolom 'content'\n",
    "df['sentiment'] = df['content'].apply(label_sentiment)\n",
    "\n",
    "# Tampilkan hasil\n",
    "df.head()\n"
   ]
  },
  {
   "cell_type": "markdown",
   "id": "41bf032f-f859-4b62-9ff2-27fe0b53df70",
   "metadata": {},
   "source": [
    "# 3. Ekstraksi Fitur\n",
    "Ubah content menjadi vektor teks.\n",
    "\n",
    "a. TF-IDF:"
   ]
  },
  {
   "cell_type": "code",
   "execution_count": 10,
   "id": "e2a129e6-754c-4cff-9a71-2e5e979d423e",
   "metadata": {},
   "outputs": [
    {
     "name": "stdout",
     "output_type": "stream",
     "text": [
      "(3000, 5000)\n",
      "['00' '000' '01' '10' '100' '1000' '10000' '100000000' '1000000000'\n",
      " '10034']\n"
     ]
    }
   ],
   "source": [
    "import pandas as pd\n",
    "from sklearn.feature_extraction.text import TfidfVectorizer\n",
    "\n",
    "# Memuat data\n",
    "df = pd.read_csv(\"data_playstore.csv\")\n",
    "\n",
    "# Pastikan kolom sentiment sudah ada\n",
    "df['sentiment'] = df['content'].apply(label_sentiment)\n",
    "\n",
    "# Ekstraksi fitur menggunakan TF-IDF\n",
    "tfidf = TfidfVectorizer(max_features=5000)\n",
    "X = tfidf.fit_transform(df['content'].astype(str)).toarray()\n",
    "\n",
    "# Target variabel (label sentimen)\n",
    "y = df['sentiment']\n",
    "\n",
    "# Tampilkan bentuk matriks fitur\n",
    "print(X.shape)  # Menampilkan jumlah fitur yang dihasilkan\n",
    "\n",
    "# Contoh melihat beberapa fitur (kata-kata)\n",
    "print(tfidf.get_feature_names_out()[:10])  # Menampilkan 10 fitur pertama\n"
   ]
  },
  {
   "cell_type": "markdown",
   "id": "52250224-5a77-4d09-99cf-93113d9ec3d2",
   "metadata": {},
   "source": [
    "# 4. Split Data"
   ]
  },
  {
   "cell_type": "code",
   "execution_count": 11,
   "id": "52c6803d-b662-4dd5-8855-19864463ef2a",
   "metadata": {},
   "outputs": [
    {
     "name": "stdout",
     "output_type": "stream",
     "text": [
      "Ukuran data training: (2400, 5000)\n",
      "Ukuran data testing: (600, 5000)\n"
     ]
    }
   ],
   "source": [
    "from sklearn.model_selection import train_test_split\n",
    "\n",
    "# Split data menjadi training dan testing\n",
    "X_train, X_test, y_train, y_test = train_test_split(X, y, test_size=0.2, random_state=42)\n",
    "\n",
    "# Tampilkan ukuran data training dan testing\n",
    "print(\"Ukuran data training:\", X_train.shape)\n",
    "print(\"Ukuran data testing:\", X_test.shape)\n"
   ]
  },
  {
   "cell_type": "markdown",
   "id": "f9cdf645-e17c-46db-b8b0-fc3bebeb76d2",
   "metadata": {},
   "source": [
    "# 5. Pelatihan Model\n",
    "Lakukan minimal 3 skema berbeda. Contoh:\n",
    "\n",
    "a. Skema 1: Random Forest + TF-IDF"
   ]
  },
  {
   "cell_type": "code",
   "execution_count": 13,
   "id": "8930cc0a-365d-4c8b-858c-99174d1feec7",
   "metadata": {},
   "outputs": [
    {
     "name": "stdout",
     "output_type": "stream",
     "text": [
      "Akurasi Random Forest: 0.8966666666666666\n",
      "Classification Report Random Forest:\n",
      "              precision    recall  f1-score   support\n",
      "\n",
      "     negatif       0.87      0.95      0.91       154\n",
      "      netral       0.90      0.94      0.92       371\n",
      "     positif       0.96      0.57      0.72        75\n",
      "\n",
      "    accuracy                           0.90       600\n",
      "   macro avg       0.91      0.82      0.85       600\n",
      "weighted avg       0.90      0.90      0.89       600\n",
      "\n"
     ]
    }
   ],
   "source": [
    "from sklearn.ensemble import RandomForestClassifier\n",
    "from sklearn.metrics import classification_report, accuracy_score\n",
    "\n",
    "# Skema 1: Random Forest + TF-IDF\n",
    "\n",
    "# Inisialisasi model Random Forest\n",
    "model_rf = RandomForestClassifier()\n",
    "\n",
    "# Melatih model dengan data latih\n",
    "model_rf.fit(X_train, y_train)\n",
    "\n",
    "# Prediksi dengan data uji\n",
    "y_pred_rf = model_rf.predict(X_test)\n",
    "\n",
    "# Evaluasi model\n",
    "print(\"Akurasi Random Forest:\", accuracy_score(y_test, y_pred_rf))\n",
    "print(\"Classification Report Random Forest:\")\n",
    "print(classification_report(y_test, y_pred_rf))\n"
   ]
  },
  {
   "cell_type": "code",
   "execution_count": 16,
   "id": "722c5054-0fba-4a72-8539-01e54ce12686",
   "metadata": {},
   "outputs": [],
   "source": [
    "#Penjelasan:\n",
    "#- RandomForestClassifier(): Model klasifikasi yang menggunakan algoritma Random Forest.\n",
    "#- model_rf.fit(X_train, y_train): Melatih model dengan data latih.\n",
    "#- model_rf.predict(X_test): Memprediksi hasil untuk data uji.\n",
    "#- accuracy_score(y_test, y_pred_rf): Menghitung akurasi model.\n",
    "#- classification_report(y_test, y_pred_rf): Menampilkan laporan klasifikasi, termasuk precision, recall, dan F1-score."
   ]
  },
  {
   "cell_type": "markdown",
   "id": "fea5ff8b-e0f2-4080-ab0f-7b9a8111f310",
   "metadata": {},
   "source": [
    "b. Skema 2: Logistic Regression + TF-IDF:"
   ]
  },
  {
   "cell_type": "code",
   "execution_count": 17,
   "id": "46972e2f-e68f-407b-94ad-ae8014eeaf45",
   "metadata": {},
   "outputs": [
    {
     "name": "stdout",
     "output_type": "stream",
     "text": [
      "Akurasi Logistic Regression: 0.845\n",
      "Classification Report Logistic Regression:\n",
      "              precision    recall  f1-score   support\n",
      "\n",
      "     negatif       0.88      0.79      0.83       154\n",
      "      netral       0.83      0.95      0.88       371\n",
      "     positif       0.92      0.44      0.59        75\n",
      "\n",
      "    accuracy                           0.84       600\n",
      "   macro avg       0.88      0.73      0.77       600\n",
      "weighted avg       0.85      0.84      0.83       600\n",
      "\n"
     ]
    }
   ],
   "source": [
    "from sklearn.linear_model import LogisticRegression\n",
    "\n",
    "# Skema 2: Logistic Regression + TF-IDF\n",
    "\n",
    "# Inisialisasi model Logistic Regression\n",
    "model_lr = LogisticRegression()\n",
    "\n",
    "# Melatih model dengan data latih\n",
    "model_lr.fit(X_train, y_train)\n",
    "\n",
    "# Prediksi dengan data uji\n",
    "y_pred_lr = model_lr.predict(X_test)\n",
    "\n",
    "# Evaluasi model\n",
    "print(\"Akurasi Logistic Regression:\", accuracy_score(y_test, y_pred_lr))\n",
    "print(\"Classification Report Logistic Regression:\")\n",
    "print(classification_report(y_test, y_pred_lr))\n"
   ]
  },
  {
   "cell_type": "markdown",
   "id": "2dca11c1-b3fd-47b9-ba87-72ed700021df",
   "metadata": {},
   "source": [
    "c. Skema 3: Support Vector Machine (SVM) + TF-IDF:"
   ]
  },
  {
   "cell_type": "code",
   "execution_count": 18,
   "id": "8e03defb-7b46-4de0-a1d9-aae4b16b9c7e",
   "metadata": {},
   "outputs": [
    {
     "name": "stdout",
     "output_type": "stream",
     "text": [
      "Akurasi SVM: 0.8616666666666667\n",
      "Classification Report SVM:\n",
      "              precision    recall  f1-score   support\n",
      "\n",
      "     negatif       0.89      0.82      0.86       154\n",
      "      netral       0.84      0.96      0.90       371\n",
      "     positif       1.00      0.44      0.61        75\n",
      "\n",
      "    accuracy                           0.86       600\n",
      "   macro avg       0.91      0.74      0.79       600\n",
      "weighted avg       0.87      0.86      0.85       600\n",
      "\n"
     ]
    }
   ],
   "source": [
    "from sklearn.svm import SVC\n",
    "\n",
    "# Skema 3: SVM + TF-IDF\n",
    "\n",
    "# Inisialisasi model SVM\n",
    "model_svm = SVC()\n",
    "\n",
    "# Melatih model dengan data latih\n",
    "model_svm.fit(X_train, y_train)\n",
    "\n",
    "# Prediksi dengan data uji\n",
    "y_pred_svm = model_svm.predict(X_test)\n",
    "\n",
    "# Evaluasi model\n",
    "print(\"Akurasi SVM:\", accuracy_score(y_test, y_pred_svm))\n",
    "print(\"Classification Report SVM:\")\n",
    "print(classification_report(y_test, y_pred_svm))\n"
   ]
  },
  {
   "cell_type": "markdown",
   "id": "e4a0e029-8c51-4394-9793-3724e4e6f76b",
   "metadata": {},
   "source": [
    "# 6. Inference dan Output\n",
    "Tambahkan cell inference:"
   ]
  },
  {
   "cell_type": "code",
   "execution_count": 19,
   "id": "2f8c5136-68bf-4706-9682-f9843e3ca7d5",
   "metadata": {},
   "outputs": [
    {
     "name": "stdout",
     "output_type": "stream",
     "text": [
      "Teks: game best kalo bisa main 😁 --> Sentimen: positif\n",
      "Teks: lumayan waktu --> Sentimen: netral\n"
     ]
    }
   ],
   "source": [
    "# Contoh inference pada data baru\n",
    "sample_text = [\"game best kalo bisa main 😁\", \"lumayan waktu\"]\n",
    "\n",
    "# Ubah sample_text menjadi vektor TF-IDF\n",
    "sample_vec = tfidf.transform(sample_text)\n",
    "\n",
    "# Prediksi sentimen menggunakan model Random Forest\n",
    "predicted_labels = model_rf.predict(sample_vec)\n",
    "\n",
    "# Tampilkan hasil prediksi\n",
    "for text, label in zip(sample_text, predicted_labels):\n",
    "    print(f\"Teks: {text} --> Sentimen: {label}\")\n"
   ]
  },
  {
   "cell_type": "code",
   "execution_count": 21,
   "id": "2a79e284-de50-41af-b1ce-4849a455ba60",
   "metadata": {},
   "outputs": [],
   "source": [
    "#Penjelasan:\n",
    "#- sample_text: daftar kalimat baru yang ingin Anda prediksi sentimennya.\n",
    "#- tfidf.transform(): mengubah teks baru menjadi bentuk vektor sesuai model TF-IDF yang sudah dilatih.\n",
    "#- model_rf.predict(): memprediksi label sentimen berdasarkan vektor input.\n",
    "#- zip() digunakan untuk mencocokkan teks dan hasil prediksi agar output lebih mudah dibaca."
   ]
  },
  {
   "cell_type": "markdown",
   "id": "1597c425-8f99-4c7b-adfd-e5a2fbdf9c27",
   "metadata": {},
   "source": [
    "# 7. Visualisasi Distribusi Label Sentimen\n"
   ]
  },
  {
   "cell_type": "code",
   "execution_count": 22,
   "id": "ccb932ac-5ebd-465c-bf5a-aa9213723fa7",
   "metadata": {},
   "outputs": [
    {
     "name": "stderr",
     "output_type": "stream",
     "text": [
      "C:\\Users\\IMM\\AppData\\Local\\Temp\\ipykernel_34204\\3293345840.py:6: FutureWarning: \n",
      "\n",
      "Passing `palette` without assigning `hue` is deprecated and will be removed in v0.14.0. Assign the `x` variable to `hue` and set `legend=False` for the same effect.\n",
      "\n",
      "  sns.countplot(data=df, x='sentiment', order=df['sentiment'].value_counts().index, palette='Set2')\n"
     ]
    },
    {
     "data": {
      "image/png": "[encoded data removed]",
      "text/plain": [
       "<Figure size 600x400 with 1 Axes>"
      ]
     },
     "metadata": {},
     "output_type": "display_data"
    }
   ],
   "source": [
    "import matplotlib.pyplot as plt\n",
    "import seaborn as sns\n",
    "\n",
    "# Plot distribusi label sentimen\n",
    "plt.figure(figsize=(6, 4))\n",
    "sns.countplot(data=df, x='sentiment', order=df['sentiment'].value_counts().index, palette='Set2')\n",
    "plt.title(\"Distribusi Label Sentimen\")\n",
    "plt.xlabel(\"Sentimen\")\n",
    "plt.ylabel(\"Jumlah\")\n",
    "plt.tight_layout()\n",
    "plt.show()\n"
   ]
  },
  {
   "cell_type": "markdown",
   "id": "1d804a22-86b6-43a2-96f5-003deb42e67f",
   "metadata": {},
   "source": []
  }
 ],
 "metadata": {
  "kernelspec": {
   "display_name": "Python 3 (ipykernel)",
   "language": "python",
   "name": "python3"
  },
  "language_info": {
   "codemirror_mode": {
    "name": "ipython",
    "version": 3
   },
   "file_extension": ".py",
   "mimetype": "text/x-python",
   "name": "python",
   "nbconvert_exporter": "python",
   "pygments_lexer": "ipython3",
   "version": "3.13.2"
  }
 },
 "nbformat": 4,
 "nbformat_minor": 5
}
